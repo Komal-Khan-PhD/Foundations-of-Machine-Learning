{
 "cells": [
  {
   "cell_type": "markdown",
   "metadata": {},
   "source": [
    "# Types of Machine Learning\n",
    "\n",
    "Most frequently, the categories ML types fall into, include the following:\n",
    "\n",
    "1. Supervised learning;\n",
    "2. Unsupervised learning;\n",
    "3. Reinforcement learning;\n",
    "\n",
    "<img src=\"https://idapgroup.com/blog/blog/wp-content/uploads/2019/11/34534-1024x427.png\">\n"
   ]
  }
 ],
 "metadata": {
  "language_info": {
   "name": "python"
  },
  "orig_nbformat": 4
 },
 "nbformat": 4,
 "nbformat_minor": 2
}
